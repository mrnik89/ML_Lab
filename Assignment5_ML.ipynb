{
  "nbformat": 4,
  "nbformat_minor": 0,
  "metadata": {
    "colab": {
      "provenance": []
    },
    "kernelspec": {
      "name": "python3",
      "display_name": "Python 3"
    },
    "language_info": {
      "name": "python"
    }
  },
  "cells": [
    {
      "cell_type": "code",
      "source": [
        "import pandas as pd\n",
        "from sklearn.datasets import load_iris\n",
        "from sklearn.preprocessing import KBinsDiscretizer\n",
        "from mlxtend.frequent_patterns import apriori, association_rules\n",
        "from mlxtend.preprocessing import TransactionEncoder\n",
        "import matplotlib.pyplot as plt"
      ],
      "metadata": {
        "id": "bOuYuZrmX_Dd"
      },
      "execution_count": 8,
      "outputs": []
    },
    {
      "cell_type": "code",
      "execution_count": 9,
      "metadata": {
        "id": "JQ8zVcz1X-kJ"
      },
      "outputs": [],
      "source": [
        "# Load and bin the Iris dataset\n",
        "iris = load_iris()\n",
        "df = pd.DataFrame(iris.data, columns=iris.feature_names)"
      ]
    },
    {
      "cell_type": "code",
      "source": [
        "discretizer = KBinsDiscretizer(n_bins=3, encode='ordinal', strategy='uniform')\n",
        "binned_data = discretizer.fit_transform(df)\n",
        "binned_df = pd.DataFrame(binned_data, columns=df.columns)\n",
        "category_map = {0.0: 'Low', 1.0: 'Med', 2.0: 'High'}\n",
        "for col in binned_df.columns:\n",
        "    binned_df[col] = binned_df[col].map(category_map)"
      ],
      "metadata": {
        "id": "a3lVy-eaYSfH"
      },
      "execution_count": 10,
      "outputs": []
    },
    {
      "cell_type": "code",
      "source": [
        "# Convert to item format\n",
        "transactions = binned_df.apply(lambda row: [f\"{col}={val}\" for col, val in row.items()], axis=1)"
      ],
      "metadata": {
        "id": "AtIsCL4nYXme"
      },
      "execution_count": 11,
      "outputs": []
    },
    {
      "cell_type": "code",
      "source": [
        "# One-hot encode\n",
        "te = TransactionEncoder()\n",
        "te_ary = te.fit(transactions).transform(transactions)\n",
        "transaction_df = pd.DataFrame(te_ary, columns=te.columns_)\n"
      ],
      "metadata": {
        "id": "YX7HdUD7YaAa"
      },
      "execution_count": 12,
      "outputs": []
    },
    {
      "cell_type": "code",
      "source": [
        "# Apriori and rules\n",
        "frequent_itemsets = apriori(transaction_df, min_support=0.2, use_colnames=True)\n",
        "rules = association_rules(frequent_itemsets, metric=\"confidence\", min_threshold=0.6)# Convert each value to item format: \"feature=value\"\n",
        "transactions = binned_df.apply(lambda row: [f\"{col}={val}\" for col, val in row.items()], axis=1)\n"
      ],
      "metadata": {
        "id": "vixvFhfKYcG6"
      },
      "execution_count": 13,
      "outputs": []
    },
    {
      "cell_type": "code",
      "source": [
        "# Print results\n",
        "print(\"Frequent Itemsets:\\n\", frequent_itemsets)\n",
        "print(\"\\nAssociation Rules:\\n\", rules[['antecedents', 'consequents', 'support', 'confidence', 'lift']])\n",
        "# One-hot encode the transactions\n",
        "from mlxtend.preprocessing import TransactionEncoder\n",
        "te = TransactionEncoder()\n",
        "te_ary = te.fit(transactions).transform(transactions)\n",
        "transaction_df = pd.DataFrame(te_ary, columns=te.columns_)"
      ],
      "metadata": {
        "id": "fTq5WFTJYejA",
        "colab": {
          "base_uri": "https://localhost:8080/"
        },
        "outputId": "2cbd930d-2b9d-4cfb-9d6f-4e132e6ba2d8"
      },
      "execution_count": 14,
      "outputs": [
        {
          "output_type": "stream",
          "name": "stdout",
          "text": [
            "Frequent Itemsets:\n",
            "      support                                           itemsets\n",
            "0   0.306667                           (petal length (cm)=High)\n",
            "1   0.333333                            (petal length (cm)=Low)\n",
            "2   0.360000                            (petal length (cm)=Med)\n",
            "3   0.320000                            (petal width (cm)=High)\n",
            "4   0.333333                             (petal width (cm)=Low)\n",
            "5   0.346667                             (petal width (cm)=Med)\n",
            "6   0.346667                            (sepal length (cm)=Low)\n",
            "7   0.466667                            (sepal length (cm)=Med)\n",
            "8   0.313333                             (sepal width (cm)=Low)\n",
            "9   0.586667                             (sepal width (cm)=Med)\n",
            "10  0.273333    (petal width (cm)=High, petal length (cm)=High)\n",
            "11  0.333333      (petal width (cm)=Low, petal length (cm)=Low)\n",
            "12  0.300000     (sepal length (cm)=Low, petal length (cm)=Low)\n",
            "13  0.240000      (sepal width (cm)=Med, petal length (cm)=Low)\n",
            "14  0.313333      (petal width (cm)=Med, petal length (cm)=Med)\n",
            "15  0.280000     (sepal length (cm)=Med, petal length (cm)=Med)\n",
            "16  0.200000      (sepal width (cm)=Low, petal length (cm)=Med)\n",
            "17  0.200000      (sepal width (cm)=Med, petal width (cm)=High)\n",
            "18  0.300000      (sepal length (cm)=Low, petal width (cm)=Low)\n",
            "19  0.240000       (sepal width (cm)=Med, petal width (cm)=Low)\n",
            "20  0.266667      (petal width (cm)=Med, sepal length (cm)=Med)\n",
            "21  0.200000       (petal width (cm)=Med, sepal width (cm)=Low)\n",
            "22  0.240000      (sepal length (cm)=Low, sepal width (cm)=Med)\n",
            "23  0.233333      (sepal width (cm)=Low, sepal length (cm)=Med)\n",
            "24  0.206667      (sepal width (cm)=Med, sepal length (cm)=Med)\n",
            "25  0.300000  (sepal length (cm)=Low, petal width (cm)=Low, ...\n",
            "26  0.240000  (sepal width (cm)=Med, petal width (cm)=Low, p...\n",
            "27  0.233333  (sepal length (cm)=Low, sepal width (cm)=Med, ...\n",
            "28  0.240000  (petal width (cm)=Med, sepal length (cm)=Med, ...\n",
            "29  0.233333  (sepal length (cm)=Low, sepal width (cm)=Med, ...\n",
            "30  0.233333  (sepal length (cm)=Low, sepal width (cm)=Med, ...\n",
            "\n",
            "Association Rules:\n",
            "                                           antecedents  \\\n",
            "0                             (petal width (cm)=High)   \n",
            "1                            (petal length (cm)=High)   \n",
            "2                              (petal width (cm)=Low)   \n",
            "3                             (petal length (cm)=Low)   \n",
            "4                             (sepal length (cm)=Low)   \n",
            "5                             (petal length (cm)=Low)   \n",
            "6                             (petal length (cm)=Low)   \n",
            "7                              (petal width (cm)=Med)   \n",
            "8                             (petal length (cm)=Med)   \n",
            "9                             (sepal length (cm)=Med)   \n",
            "10                            (petal length (cm)=Med)   \n",
            "11                             (sepal width (cm)=Low)   \n",
            "12                            (petal width (cm)=High)   \n",
            "13                            (sepal length (cm)=Low)   \n",
            "14                             (petal width (cm)=Low)   \n",
            "15                             (petal width (cm)=Low)   \n",
            "16                             (petal width (cm)=Med)   \n",
            "17                             (sepal width (cm)=Low)   \n",
            "18                            (sepal length (cm)=Low)   \n",
            "19                             (sepal width (cm)=Low)   \n",
            "20      (sepal length (cm)=Low, petal width (cm)=Low)   \n",
            "21     (sepal length (cm)=Low, petal length (cm)=Low)   \n",
            "22      (petal width (cm)=Low, petal length (cm)=Low)   \n",
            "23                            (sepal length (cm)=Low)   \n",
            "24                             (petal width (cm)=Low)   \n",
            "25                            (petal length (cm)=Low)   \n",
            "26       (sepal width (cm)=Med, petal width (cm)=Low)   \n",
            "27      (sepal width (cm)=Med, petal length (cm)=Low)   \n",
            "28      (petal width (cm)=Low, petal length (cm)=Low)   \n",
            "29                             (petal width (cm)=Low)   \n",
            "30                            (petal length (cm)=Low)   \n",
            "31      (sepal length (cm)=Low, sepal width (cm)=Med)   \n",
            "32     (sepal length (cm)=Low, petal length (cm)=Low)   \n",
            "33      (sepal width (cm)=Med, petal length (cm)=Low)   \n",
            "34                            (sepal length (cm)=Low)   \n",
            "35                            (petal length (cm)=Low)   \n",
            "36      (petal width (cm)=Med, sepal length (cm)=Med)   \n",
            "37      (petal width (cm)=Med, petal length (cm)=Med)   \n",
            "38     (sepal length (cm)=Med, petal length (cm)=Med)   \n",
            "39                             (petal width (cm)=Med)   \n",
            "40                            (petal length (cm)=Med)   \n",
            "41      (sepal length (cm)=Low, sepal width (cm)=Med)   \n",
            "42      (sepal length (cm)=Low, petal width (cm)=Low)   \n",
            "43       (sepal width (cm)=Med, petal width (cm)=Low)   \n",
            "44                            (sepal length (cm)=Low)   \n",
            "45                             (petal width (cm)=Low)   \n",
            "46  (sepal length (cm)=Low, sepal width (cm)=Med, ...   \n",
            "47  (sepal length (cm)=Low, sepal width (cm)=Med, ...   \n",
            "48  (sepal length (cm)=Low, petal width (cm)=Low, ...   \n",
            "49  (sepal width (cm)=Med, petal width (cm)=Low, p...   \n",
            "50      (sepal length (cm)=Low, sepal width (cm)=Med)   \n",
            "51      (sepal length (cm)=Low, petal width (cm)=Low)   \n",
            "52     (sepal length (cm)=Low, petal length (cm)=Low)   \n",
            "53       (sepal width (cm)=Med, petal width (cm)=Low)   \n",
            "54      (sepal width (cm)=Med, petal length (cm)=Low)   \n",
            "55      (petal width (cm)=Low, petal length (cm)=Low)   \n",
            "56                            (sepal length (cm)=Low)   \n",
            "57                             (petal width (cm)=Low)   \n",
            "58                            (petal length (cm)=Low)   \n",
            "\n",
            "                                          consequents   support  confidence  \\\n",
            "0                            (petal length (cm)=High)  0.273333    0.854167   \n",
            "1                             (petal width (cm)=High)  0.273333    0.891304   \n",
            "2                             (petal length (cm)=Low)  0.333333    1.000000   \n",
            "3                              (petal width (cm)=Low)  0.333333    1.000000   \n",
            "4                             (petal length (cm)=Low)  0.300000    0.865385   \n",
            "5                             (sepal length (cm)=Low)  0.300000    0.900000   \n",
            "6                              (sepal width (cm)=Med)  0.240000    0.720000   \n",
            "7                             (petal length (cm)=Med)  0.313333    0.903846   \n",
            "8                              (petal width (cm)=Med)  0.313333    0.870370   \n",
            "9                             (petal length (cm)=Med)  0.280000    0.600000   \n",
            "10                            (sepal length (cm)=Med)  0.280000    0.777778   \n",
            "11                            (petal length (cm)=Med)  0.200000    0.638298   \n",
            "12                             (sepal width (cm)=Med)  0.200000    0.625000   \n",
            "13                             (petal width (cm)=Low)  0.300000    0.865385   \n",
            "14                            (sepal length (cm)=Low)  0.300000    0.900000   \n",
            "15                             (sepal width (cm)=Med)  0.240000    0.720000   \n",
            "16                            (sepal length (cm)=Med)  0.266667    0.769231   \n",
            "17                             (petal width (cm)=Med)  0.200000    0.638298   \n",
            "18                             (sepal width (cm)=Med)  0.240000    0.692308   \n",
            "19                            (sepal length (cm)=Med)  0.233333    0.744681   \n",
            "20                            (petal length (cm)=Low)  0.300000    1.000000   \n",
            "21                             (petal width (cm)=Low)  0.300000    1.000000   \n",
            "22                            (sepal length (cm)=Low)  0.300000    0.900000   \n",
            "23      (petal width (cm)=Low, petal length (cm)=Low)  0.300000    0.865385   \n",
            "24     (sepal length (cm)=Low, petal length (cm)=Low)  0.300000    0.900000   \n",
            "25      (sepal length (cm)=Low, petal width (cm)=Low)  0.300000    0.900000   \n",
            "26                            (petal length (cm)=Low)  0.240000    1.000000   \n",
            "27                             (petal width (cm)=Low)  0.240000    1.000000   \n",
            "28                             (sepal width (cm)=Med)  0.240000    0.720000   \n",
            "29      (sepal width (cm)=Med, petal length (cm)=Low)  0.240000    0.720000   \n",
            "30       (sepal width (cm)=Med, petal width (cm)=Low)  0.240000    0.720000   \n",
            "31                            (petal length (cm)=Low)  0.233333    0.972222   \n",
            "32                             (sepal width (cm)=Med)  0.233333    0.777778   \n",
            "33                            (sepal length (cm)=Low)  0.233333    0.972222   \n",
            "34      (sepal width (cm)=Med, petal length (cm)=Low)  0.233333    0.673077   \n",
            "35      (sepal length (cm)=Low, sepal width (cm)=Med)  0.233333    0.700000   \n",
            "36                            (petal length (cm)=Med)  0.240000    0.900000   \n",
            "37                            (sepal length (cm)=Med)  0.240000    0.765957   \n",
            "38                             (petal width (cm)=Med)  0.240000    0.857143   \n",
            "39     (sepal length (cm)=Med, petal length (cm)=Med)  0.240000    0.692308   \n",
            "40      (petal width (cm)=Med, sepal length (cm)=Med)  0.240000    0.666667   \n",
            "41                             (petal width (cm)=Low)  0.233333    0.972222   \n",
            "42                             (sepal width (cm)=Med)  0.233333    0.777778   \n",
            "43                            (sepal length (cm)=Low)  0.233333    0.972222   \n",
            "44       (sepal width (cm)=Med, petal width (cm)=Low)  0.233333    0.673077   \n",
            "45      (sepal length (cm)=Low, sepal width (cm)=Med)  0.233333    0.700000   \n",
            "46                            (petal length (cm)=Low)  0.233333    1.000000   \n",
            "47                             (petal width (cm)=Low)  0.233333    1.000000   \n",
            "48                             (sepal width (cm)=Med)  0.233333    0.777778   \n",
            "49                            (sepal length (cm)=Low)  0.233333    0.972222   \n",
            "50      (petal width (cm)=Low, petal length (cm)=Low)  0.233333    0.972222   \n",
            "51      (sepal width (cm)=Med, petal length (cm)=Low)  0.233333    0.777778   \n",
            "52       (sepal width (cm)=Med, petal width (cm)=Low)  0.233333    0.777778   \n",
            "53     (sepal length (cm)=Low, petal length (cm)=Low)  0.233333    0.972222   \n",
            "54      (sepal length (cm)=Low, petal width (cm)=Low)  0.233333    0.972222   \n",
            "55      (sepal length (cm)=Low, sepal width (cm)=Med)  0.233333    0.700000   \n",
            "56  (sepal width (cm)=Med, petal width (cm)=Low, p...  0.233333    0.673077   \n",
            "57  (sepal length (cm)=Low, sepal width (cm)=Med, ...  0.233333    0.700000   \n",
            "58  (sepal length (cm)=Low, sepal width (cm)=Med, ...  0.233333    0.700000   \n",
            "\n",
            "        lift  \n",
            "0   2.785326  \n",
            "1   2.785326  \n",
            "2   3.000000  \n",
            "3   3.000000  \n",
            "4   2.596154  \n",
            "5   2.596154  \n",
            "6   1.227273  \n",
            "7   2.510684  \n",
            "8   2.510684  \n",
            "9   1.666667  \n",
            "10  1.666667  \n",
            "11  1.773050  \n",
            "12  1.065341  \n",
            "13  2.596154  \n",
            "14  2.596154  \n",
            "15  1.227273  \n",
            "16  1.648352  \n",
            "17  1.841244  \n",
            "18  1.180070  \n",
            "19  1.595745  \n",
            "20  3.000000  \n",
            "21  3.000000  \n",
            "22  2.596154  \n",
            "23  2.596154  \n",
            "24  3.000000  \n",
            "25  3.000000  \n",
            "26  3.000000  \n",
            "27  3.000000  \n",
            "28  1.227273  \n",
            "29  3.000000  \n",
            "30  3.000000  \n",
            "31  2.916667  \n",
            "32  1.325758  \n",
            "33  2.804487  \n",
            "34  2.804487  \n",
            "35  2.916667  \n",
            "36  2.500000  \n",
            "37  1.641337  \n",
            "38  2.472527  \n",
            "39  2.472527  \n",
            "40  2.500000  \n",
            "41  2.916667  \n",
            "42  1.325758  \n",
            "43  2.804487  \n",
            "44  2.804487  \n",
            "45  2.916667  \n",
            "46  3.000000  \n",
            "47  3.000000  \n",
            "48  1.325758  \n",
            "49  2.804487  \n",
            "50  2.916667  \n",
            "51  3.240741  \n",
            "52  3.240741  \n",
            "53  3.240741  \n",
            "54  3.240741  \n",
            "55  2.916667  \n",
            "56  2.804487  \n",
            "57  3.000000  \n",
            "58  3.000000  \n"
          ]
        }
      ]
    },
    {
      "cell_type": "code",
      "source": [
        "# Plotting function\n",
        "def plot_scatter_support_confidence(rules):\n",
        "    plt.figure(figsize=(8, 6))\n",
        "    plt.scatter(rules['support'], rules['confidence'], alpha=0.6, c='blue')\n",
        "    plt.xlabel('Support')\n",
        "    plt.ylabel('Confidence')\n",
        "    plt.title('Support vs. Confidence')\n",
        "    plt.grid(True)\n",
        "    plt.show()# Apply Apriori algorithm\n",
        "frequent_itemsets = apriori(transaction_df, min_support=0.2, use_colnames=True)"
      ],
      "metadata": {
        "id": "RAAgGDkEYg2p"
      },
      "execution_count": 15,
      "outputs": []
    },
    {
      "cell_type": "code",
      "source": [
        "# Call plot\n",
        "plot_scatter_support_confidence(rules)# Generate association rules\n",
        "rules = association_rules(frequent_itemsets, metric=\"confidence\", min_threshold=0.6)"
      ],
      "metadata": {
        "id": "_8ffdnw-YkD3",
        "colab": {
          "base_uri": "https://localhost:8080/",
          "height": 564
        },
        "outputId": "11cbb9cc-5ea9-47e6-bf53-43b03463dc61"
      },
      "execution_count": 16,
      "outputs": [
        {
          "output_type": "display_data",
          "data": {
            "text/plain": [
              "<Figure size 800x600 with 1 Axes>"
            ],
            "image/png": "[encoded data removed]"
          },
          "metadata": {}
        }
      ]
    },
    {
      "cell_type": "code",
      "source": [],
      "metadata": {
        "id": "Cju0M5Husvoj"
      },
      "execution_count": null,
      "outputs": []
    }
  ]
}